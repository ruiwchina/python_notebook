{
 "cells": [
  {
   "cell_type": "markdown",
   "metadata": {},
   "source": [
    "# 问题：\n",
    "> 一筐鸡蛋：\n",
    "\n",
    "> 1个1个拿，正好拿完。\n",
    "\n",
    "> 2个2个拿，还剩1个。\n",
    "\n",
    "> 3个3个拿，正好拿完。\n",
    "\n",
    "> 4个4个拿，还剩1个。\n",
    "\n",
    "> 5个5个拿，还差1个。\n",
    "\n",
    "> 6个6个拿，还剩3个。\n",
    "\n",
    "> 7个7个拿，正好拿完。\n",
    "\n",
    "> 8个8个拿，还剩1个。\n",
    "\n",
    "> 9个9个拿，正好拿完。\n",
    "\n",
    "> **筐里最少有多少鸡蛋**？ \n",
    "\n",
    "env: jupyter_a2"
   ]
  },
  {
   "cell_type": "code",
   "execution_count": 2,
   "metadata": {
    "collapsed": false
   },
   "outputs": [
    {
     "name": "stdout",
     "output_type": "stream",
     "text": [
      "1449\n"
     ]
    }
   ],
   "source": [
    "for i in range(10000):\n",
    "    conditions = (i % 1 == 0 and \\\n",
    "                  i % 2 == 1 and \\\n",
    "                  i % 3 == 0 and \\\n",
    "                  i % 4 == 1 and \\\n",
    "                  i % 5 == 4 and \\\n",
    "                  i % 6 == 3 and \\\n",
    "                  i % 7 == 0 and \\\n",
    "                  i % 8 == 1 and \\\n",
    "                  i % 9 == 0)\n",
    "    if conditions:\n",
    "        print i\n",
    "        break"
   ]
  },
  {
   "cell_type": "code",
   "execution_count": null,
   "metadata": {
    "collapsed": true
   },
   "outputs": [],
   "source": []
  }
 ],
 "metadata": {
  "anaconda-cloud": {},
  "kernelspec": {
   "display_name": "Python [conda env:jupyter_a2]",
   "language": "python",
   "name": "conda-env-jupyter_a2-py"
  },
  "language_info": {
   "codemirror_mode": {
    "name": "ipython",
    "version": 2
   },
   "file_extension": ".py",
   "mimetype": "text/x-python",
   "name": "python",
   "nbconvert_exporter": "python",
   "pygments_lexer": "ipython2",
   "version": "2.7.13"
  }
 },
 "nbformat": 4,
 "nbformat_minor": 2
}
